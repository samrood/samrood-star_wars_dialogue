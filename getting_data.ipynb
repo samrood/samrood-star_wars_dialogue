{
 "cells": [
  {
   "cell_type": "markdown",
   "metadata": {},
   "source": [
    "## Getting data\n",
    "This notebook will read in multiple files that contain star wars movie dialogue and create tables based on the characters which will be stored on mongo db."
   ]
  },
  {
   "cell_type": "markdown",
   "metadata": {},
   "source": [
    "*** \n",
    "### Import packages "
   ]
  },
  {
   "cell_type": "code",
   "execution_count": 1,
   "metadata": {},
   "outputs": [],
   "source": [
    "import warnings\n",
    "warnings.filterwarnings('ignore')"
   ]
  },
  {
   "cell_type": "code",
   "execution_count": 2,
   "metadata": {},
   "outputs": [],
   "source": [
    "from pymongo import MongoClient\n",
    "import requests\n",
    "import pandas as pd"
   ]
  },
  {
   "cell_type": "markdown",
   "metadata": {},
   "source": [
    "*** \n",
    "### Read in tables\n",
    "read the text files as tables then organize them."
   ]
  },
  {
   "cell_type": "code",
   "execution_count": 3,
   "metadata": {},
   "outputs": [],
   "source": [
    "IV_df = pd.read_table('star-wars-movie-scripts/SW_EpisodeIV.txt',\n",
    "               delim_whitespace=True, header=0, escapechar='\\\\')\n",
    "IV_df['movie'] = 'IV'"
   ]
  },
  {
   "cell_type": "code",
   "execution_count": 4,
   "metadata": {},
   "outputs": [],
   "source": [
    "V_df = pd.read_table('star-wars-movie-scripts/SW_EpisodeV.txt',\n",
    "               delim_whitespace=True, header=0, escapechar='\\\\')\n",
    "V_df['movie'] = 'V'"
   ]
  },
  {
   "cell_type": "code",
   "execution_count": 5,
   "metadata": {},
   "outputs": [],
   "source": [
    "VI_df = pd.read_table('star-wars-movie-scripts/SW_EpisodeVI.txt',\n",
    "               delim_whitespace=True, header=0, escapechar='\\\\')\n",
    "VI_df['movie'] = 'VI'"
   ]
  },
  {
   "cell_type": "code",
   "execution_count": 6,
   "metadata": {},
   "outputs": [],
   "source": [
    "I_df = pd.read_table('star-wars-movie-scripts/SW_EpisodeI.txt', header=0, sep =' : ', escapechar='\\\\')\n",
    "I_df['movie'] = 'I'"
   ]
  },
  {
   "cell_type": "code",
   "execution_count": 7,
   "metadata": {},
   "outputs": [],
   "source": [
    "II_df = pd.read_table('star-wars-movie-scripts/SW_EpisodeII.txt', header=0, sep =' : ', escapechar='\\\\')\n",
    "II_df['movie'] = 'II'"
   ]
  },
  {
   "cell_type": "code",
   "execution_count": 8,
   "metadata": {},
   "outputs": [],
   "source": [
    "III_df = pd.read_table('star-wars-movie-scripts/SW_EpisodeIII.txt', header=0, sep =': ', escapechar='\\\\')\n",
    "III_df['movie'] = 'III'"
   ]
  },
  {
   "cell_type": "code",
   "execution_count": 9,
   "metadata": {},
   "outputs": [],
   "source": [
    "pdList = [IV_df, V_df, VI_df, I_df, II_df, III_df]\n",
    "dialogue_df = pd.concat(pdList)"
   ]
  },
  {
   "cell_type": "code",
   "execution_count": 10,
   "metadata": {},
   "outputs": [],
   "source": [
    "dialogue_df['character'] = dialogue_df['character'].map(lambda x: x.replace('BEN','OBI-WAN').replace('DARTH VADER','VADER').replace('THREEPIO','C-3PO').strip())"
   ]
  },
  {
   "cell_type": "code",
   "execution_count": 11,
   "metadata": {
    "scrolled": true
   },
   "outputs": [
    {
     "data": {
      "text/plain": [
       "{'ANAKIN': 692,\n",
       " 'OBI-WAN': 589,\n",
       " 'LUKE': 494,\n",
       " 'HAN': 459,\n",
       " 'C-3PO': 358,\n",
       " 'PADME': 356,\n",
       " 'LEIA': 227,\n",
       " 'QUI-GON': 211,\n",
       " 'YODA': 168,\n",
       " 'PALPATINE': 153,\n",
       " 'VADER': 145,\n",
       " 'JAR JAR': 106,\n",
       " 'LANDO': 101,\n",
       " 'MACE WINDU': 90,\n",
       " 'AMIDALA': 48,\n",
       " 'NUTE': 48,\n",
       " 'BAIL ORGANA': 47,\n",
       " 'EMPEROR': 44,\n",
       " 'WATTO': 42,\n",
       " 'CAPT. PANAKA': 39,\n",
       " 'RED LEADER': 38,\n",
       " 'DARTH SIDIOUS': 37,\n",
       " 'SHMI': 36,\n",
       " 'COUNT DOOKU': 35,\n",
       " 'BIGGS': 34,\n",
       " 'WEDGE': 33,\n",
       " 'OWEN': 32,\n",
       " 'PIETT': 31,\n",
       " 'JABBA': 29,\n",
       " 'TARKIN': 28,\n",
       " 'GENERAL GRIEVOUS': 27,\n",
       " 'CREATURE': 25,\n",
       " 'TROOPER': 19,\n",
       " 'LAMA SU': 19,\n",
       " 'BOSS NASS': 17,\n",
       " 'JOCASTA NU': 15,\n",
       " 'RUNE': 15,\n",
       " 'SIO BIBBLE': 15,\n",
       " 'JANGO FETT': 15,\n",
       " 'GOLD LEADER': 14,\n",
       " 'ACKBAR': 14,\n",
       " 'RIEEKAN': 13,\n",
       " 'RIC OLIE': 13,\n",
       " 'OFFICER': 13,\n",
       " 'MAS AMEDDA': 12,\n",
       " 'PILOT': 11,\n",
       " 'DEXTER JETTSTER': 11,\n",
       " 'TAUN WE': 11,\n",
       " 'BOBA FETT': 11,\n",
       " 'CAPTAIN TYPHO': 10,\n",
       " 'CLONE COMMANDER CODY': 10,\n",
       " 'COMMANDER': 10,\n",
       " 'MON MOTHMA': 9,\n",
       " 'QUEEN JAMILLIA': 9,\n",
       " 'CONTROLLER': 8,\n",
       " 'KITSTER': 8,\n",
       " 'VALORUM': 8,\n",
       " 'INTERCOM VOICE': 8,\n",
       " 'RED TEN': 8,\n",
       " 'VEERS': 7,\n",
       " 'JERJERROD': 7,\n",
       " 'GUARD': 7,\n",
       " 'RUWEE': 7,\n",
       " 'GREEDO': 7,\n",
       " 'DECK OFFICER': 7,\n",
       " 'Kl-ADI-MUNDI': 7,\n",
       " 'JOBAL': 7,\n",
       " 'BOUSHH': 7,\n",
       " 'GOLD FIVE': 7,\n",
       " 'SOLA': 7,\n",
       " 'NINEDENINE': 6,\n",
       " 'BIB': 6,\n",
       " 'TlON MEDON': 6,\n",
       " 'DEATH STAR INTERCOM VOICE': 6,\n",
       " 'STORMTROOPER': 6,\n",
       " 'CLIEGG': 6,\n",
       " 'MEDICAL DROID': 6,\n",
       " 'AUNT BERU': 6,\n",
       " 'DODONNA': 6,\n",
       " 'CAPTAIN': 6,\n",
       " 'FIRST TROOPER': 6,\n",
       " 'ZEV': 6,\n",
       " 'SEBULBA': 5,\n",
       " 'JIRA': 5,\n",
       " 'NEEDA': 5,\n",
       " 'KI-ADI': 5,\n",
       " 'OZZEL': 5,\n",
       " 'PK-4': 5,\n",
       " 'DARTH MAUL': 5,\n",
       " 'CLONE SERGEANT': 5,\n",
       " 'TAGGE': 4,\n",
       " 'ODD BALL': 4,\n",
       " 'SENATOR ASK AAK': 4,\n",
       " 'JANSON': 4,\n",
       " 'CLONE COMMANDER GREE': 4,\n",
       " 'BRAVO TWO': 4,\n",
       " 'OOM-9': 4,\n",
       " 'HUMAN': 4,\n",
       " 'ZAM WESSEL': 4,\n",
       " 'VOICE': 4,\n",
       " 'IMPERIAL OFFICER': 4,\n",
       " 'MOTTI': 4,\n",
       " 'DACK': 4,\n",
       " 'POGGLE': 4,\n",
       " 'LOTT DOD': 4,\n",
       " 'BATTLE DROID CAPTAIN': 4,\n",
       " 'CLONE CAPTAIN': 4,\n",
       " 'HERMIONE': 4,\n",
       " 'GENERAL CEEL': 3,\n",
       " 'BARTENDER': 3,\n",
       " 'ORN FREE TAA': 3,\n",
       " 'TRENCH OFFICER': 3,\n",
       " 'ANNOUNCER': 3,\n",
       " 'DERLIN': 3,\n",
       " 'SECOND TROOPER': 3,\n",
       " 'CAPT. TARPALS': 3,\n",
       " 'BERU': 3,\n",
       " 'REBEL PILOT': 3,\n",
       " 'GIDDEAN DANU': 3,\n",
       " 'TC-14': 3,\n",
       " 'ELAN SLEAZEBAGGANO': 3,\n",
       " 'WRANGLER': 3,\n",
       " 'TEY HOW': 3,\n",
       " 'RABE': 3,\n",
       " 'CLONE TROOPER': 3,\n",
       " 'MASSASSI INTERCOM VOICE': 3,\n",
       " 'SENIOR CONTROLLER': 2,\n",
       " 'RED NINE': 2,\n",
       " 'TRACKING OFFICER': 2,\n",
       " 'CLONE COMMANDER BACARA': 2,\n",
       " 'WINGMAN': 2,\n",
       " 'BATTLE DROID 3B3': 2,\n",
       " 'SUN RIT': 2,\n",
       " 'GANTRY OFFICER': 2,\n",
       " 'SHUTTLE CAPTAIN': 2,\n",
       " 'CAMIE': 2,\n",
       " 'GOLD TWO': 2,\n",
       " 'RYOO & POOJA': 2,\n",
       " 'GENERAL MADINE': 2,\n",
       " 'DORME': 2,\n",
       " 'CLONE COMMANDER THIRE': 2,\n",
       " 'DOFINE': 2,\n",
       " 'FANG ZAR': 2,\n",
       " 'AAYLA': 2,\n",
       " 'MAN': 2,\n",
       " 'BODYGUARD': 2,\n",
       " 'CHILDREN': 2,\n",
       " 'SECOND OFFICER': 2,\n",
       " 'WALD': 2,\n",
       " 'CHIEF': 2,\n",
       " 'STRANGE VOICE': 2,\n",
       " 'SUPER BATTLE DROID G21': 2,\n",
       " 'COMMUNICATIONS OFFICER': 2,\n",
       " 'LIEUTENANT': 2,\n",
       " 'SCOUT #1': 2,\n",
       " 'WILLARD': 2,\n",
       " 'CAPTAIN ANTILLES': 2,\n",
       " 'KI-ADI-MUNDI': 2,\n",
       " 'SUPER BATTLE DROID 1': 2,\n",
       " 'BANA BREEMU': 2,\n",
       " 'FIXER': 2,\n",
       " 'BRAVO THREE': 2,\n",
       " 'TC14': 1,\n",
       " 'OPERATOR': 1,\n",
       " 'JEDI CHILD JACK': 1,\n",
       " 'YOUNGLINGS': 1,\n",
       " 'DROID 2': 1,\n",
       " 'GRAY LEADER': 1,\n",
       " 'BUNKER COMMANDER': 1,\n",
       " 'MOTEE': 1,\n",
       " 'SCOUT': 1,\n",
       " 'SUPER BATTLE DROID R77': 1,\n",
       " 'PORKINS': 1,\n",
       " 'ROYAL GUARD': 1,\n",
       " 'NAVIGATOR': 1,\n",
       " 'HEAD CONTROLLER': 1,\n",
       " 'JEDI CHILD MAY': 1,\n",
       " 'CLONE COMMANDER APPO': 1,\n",
       " 'TROOPER VOICE': 1,\n",
       " 'SEEK': 1,\n",
       " 'SECOND C-3PO': 1,\n",
       " 'RED THREE': 1,\n",
       " 'CONTROL ROOM COMMANDER': 1,\n",
       " 'CHI EEKWAY': 1,\n",
       " 'TECHNICIAN': 1,\n",
       " 'TERR TANEEL': 1,\n",
       " 'WOMAN CONTROLLER': 1,\n",
       " 'MAD AMEDDA': 1,\n",
       " 'AMEE': 1,\n",
       " 'SUPER BATTLE DROID 2': 1,\n",
       " 'Y-WING PILOT': 1,\n",
       " 'RED TWO': 1,\n",
       " 'ASTRO-OFFICER': 1,\n",
       " 'PR-4': 1,\n",
       " 'VENDOR': 1,\n",
       " 'PILOT #2': 1,\n",
       " 'REBEL FIGHTER': 1,\n",
       " 'HAN and LUKE': 1,\n",
       " 'SCOUT #2': 1,\n",
       " 'WALKER PILOT #1': 1,\n",
       " 'VOICE OVER DEATH STAR INTERCOM': 1,\n",
       " 'AKS MOE': 1,\n",
       " 'GREEN LEADER': 1,\n",
       " 'SECOND CONTROLLER': 1,\n",
       " 'OWO-1': 1,\n",
       " 'DEAK': 1,\n",
       " 'DROID 1': 1,\n",
       " 'P-59': 1,\n",
       " 'CHIEF PILOT': 1,\n",
       " 'WOMAN': 1,\n",
       " 'FIGHTER PILOT': 1,\n",
       " 'FIRESHIP PILOT': 1,\n",
       " 'FIRST OFFICER': 1,\n",
       " 'EG-9': 1,\n",
       " 'CONTROL OFFICER': 1,\n",
       " 'OFFICER CASS': 1,\n",
       " 'AMBASSADOR DARSANA': 1,\n",
       " 'DROID GUARD': 1,\n",
       " 'IMPERIAL SOLDIER': 1,\n",
       " 'HAN/PILOT': 1,\n",
       " 'BLY': 1,\n",
       " 'PLO KOON': 1,\n",
       " 'CLONE PILOT 2': 1,\n",
       " 'PILOT VOICE': 1,\n",
       " 'DAR WAC': 1,\n",
       " 'BASE VOICE': 1,\n",
       " 'RED SEVEN': 1,\n",
       " 'SECOND COMMANDER': 1,\n",
       " 'FIRST CONTROLLER': 1,\n",
       " 'CLONE PILOT': 1,\n",
       " 'FANTA': 1,\n",
       " 'DROID CAPTAIN': 1,\n",
       " 'JANGO': 1,\n",
       " 'FANGZAR': 1,\n",
       " 'SABE': 1,\n",
       " 'REBEL OFFICER': 1,\n",
       " 'BODYGUARD I': 1,\n",
       " 'DEATH STAR CONTROLLER': 1,\n",
       " 'SCOUT #l': 1,\n",
       " 'HOBBIE': 1,\n",
       " 'LURE': 1,\n",
       " 'OOLA': 1,\n",
       " 'BATTLE DROID': 1,\n",
       " 'ASSEMBLY': 1,\n",
       " 'ANAKIN/OBI-WAN': 1,\n",
       " 'GUNGAN LOOKOUT': 1,\n",
       " 'CORDÉ': 1,\n",
       " 'RED ELEVEN': 1,\n",
       " 'SUPER BATTLE DROID': 1,\n",
       " 'PILOTS': 1,\n",
       " 'REBEL CAPTAIN': 1,\n",
       " 'ODY': 1,\n",
       " 'GUARD DROID': 1,\n",
       " 'ASSISTANT OFFICER': 1}"
      ]
     },
     "execution_count": 11,
     "metadata": {},
     "output_type": "execute_result"
    }
   ],
   "source": [
    "counts = dialogue_df['character'].value_counts().to_dict()\n",
    "counts"
   ]
  },
  {
   "cell_type": "code",
   "execution_count": 11,
   "metadata": {},
   "outputs": [
    {
     "data": {
      "text/html": [
       "<div>\n",
       "<style scoped>\n",
       "    .dataframe tbody tr th:only-of-type {\n",
       "        vertical-align: middle;\n",
       "    }\n",
       "\n",
       "    .dataframe tbody tr th {\n",
       "        vertical-align: top;\n",
       "    }\n",
       "\n",
       "    .dataframe thead th {\n",
       "        text-align: right;\n",
       "    }\n",
       "</style>\n",
       "<table border=\"1\" class=\"dataframe\">\n",
       "  <thead>\n",
       "    <tr style=\"text-align: right;\">\n",
       "      <th></th>\n",
       "      <th>character</th>\n",
       "      <th>dialogue</th>\n",
       "      <th>movie</th>\n",
       "    </tr>\n",
       "  </thead>\n",
       "  <tbody>\n",
       "    <tr>\n",
       "      <th>1</th>\n",
       "      <td>C-3PO</td>\n",
       "      <td>Did you hear that?  They've shut down the main...</td>\n",
       "      <td>IV</td>\n",
       "    </tr>\n",
       "    <tr>\n",
       "      <th>2</th>\n",
       "      <td>C-3PO</td>\n",
       "      <td>We're doomed!</td>\n",
       "      <td>IV</td>\n",
       "    </tr>\n",
       "    <tr>\n",
       "      <th>3</th>\n",
       "      <td>C-3PO</td>\n",
       "      <td>There'll be no escape for the Princess this time.</td>\n",
       "      <td>IV</td>\n",
       "    </tr>\n",
       "    <tr>\n",
       "      <th>4</th>\n",
       "      <td>C-3PO</td>\n",
       "      <td>What's that?</td>\n",
       "      <td>IV</td>\n",
       "    </tr>\n",
       "    <tr>\n",
       "      <th>5</th>\n",
       "      <td>C-3PO</td>\n",
       "      <td>I should have known better than to trust the l...</td>\n",
       "      <td>IV</td>\n",
       "    </tr>\n",
       "    <tr>\n",
       "      <th>...</th>\n",
       "      <td>...</td>\n",
       "      <td>...</td>\n",
       "      <td>...</td>\n",
       "    </tr>\n",
       "    <tr>\n",
       "      <th>1140</th>\n",
       "      <td>YODA</td>\n",
       "      <td>How to join the Force, he will train you. Your...</td>\n",
       "      <td>III</td>\n",
       "    </tr>\n",
       "    <tr>\n",
       "      <th>1141</th>\n",
       "      <td>BAIL ORGANA</td>\n",
       "      <td>Captain Antilles.</td>\n",
       "      <td>III</td>\n",
       "    </tr>\n",
       "    <tr>\n",
       "      <th>1142</th>\n",
       "      <td>CAPTAIN ANTILLES</td>\n",
       "      <td>Yes, Your Highness.</td>\n",
       "      <td>III</td>\n",
       "    </tr>\n",
       "    <tr>\n",
       "      <th>1143</th>\n",
       "      <td>BAIL ORGANA</td>\n",
       "      <td>I'm placing these droids in your care. Treat t...</td>\n",
       "      <td>III</td>\n",
       "    </tr>\n",
       "    <tr>\n",
       "      <th>1144</th>\n",
       "      <td>C-3PO</td>\n",
       "      <td>Oh, no.</td>\n",
       "      <td>III</td>\n",
       "    </tr>\n",
       "  </tbody>\n",
       "</table>\n",
       "<p>5607 rows × 3 columns</p>\n",
       "</div>"
      ],
      "text/plain": [
       "             character                                           dialogue  \\\n",
       "1                C-3PO  Did you hear that?  They've shut down the main...   \n",
       "2                C-3PO                                      We're doomed!   \n",
       "3                C-3PO  There'll be no escape for the Princess this time.   \n",
       "4                C-3PO                                       What's that?   \n",
       "5                C-3PO  I should have known better than to trust the l...   \n",
       "...                ...                                                ...   \n",
       "1140              YODA  How to join the Force, he will train you. Your...   \n",
       "1141       BAIL ORGANA                                  Captain Antilles.   \n",
       "1142  CAPTAIN ANTILLES                                Yes, Your Highness.   \n",
       "1143       BAIL ORGANA  I'm placing these droids in your care. Treat t...   \n",
       "1144             C-3PO                                            Oh, no.   \n",
       "\n",
       "     movie  \n",
       "1       IV  \n",
       "2       IV  \n",
       "3       IV  \n",
       "4       IV  \n",
       "5       IV  \n",
       "...    ...  \n",
       "1140   III  \n",
       "1141   III  \n",
       "1142   III  \n",
       "1143   III  \n",
       "1144   III  \n",
       "\n",
       "[5607 rows x 3 columns]"
      ]
     },
     "execution_count": 11,
     "metadata": {},
     "output_type": "execute_result"
    }
   ],
   "source": [
    "dialogue_df"
   ]
  },
  {
   "cell_type": "code",
   "execution_count": 12,
   "metadata": {},
   "outputs": [],
   "source": [
    "client = MongoClient()"
   ]
  },
  {
   "cell_type": "code",
   "execution_count": 13,
   "metadata": {},
   "outputs": [],
   "source": [
    "db = client.starwars\n",
    "scripts = db.scripts"
   ]
  },
  {
   "cell_type": "code",
   "execution_count": 15,
   "metadata": {},
   "outputs": [
    {
     "data": {
      "text/plain": [
       "<pymongo.results.InsertManyResult at 0x102241b280>"
      ]
     },
     "execution_count": 15,
     "metadata": {},
     "output_type": "execute_result"
    }
   ],
   "source": [
    "dialogue_df.reset_index(level=0, inplace=True, drop=True)\n",
    "scripts.insert_many(dialogue_df.to_dict(orient='records'))"
   ]
  },
  {
   "cell_type": "code",
   "execution_count": 14,
   "metadata": {},
   "outputs": [
    {
     "data": {
      "text/plain": [
       "<pymongo.results.InsertManyResult at 0x102240caf0>"
      ]
     },
     "execution_count": 14,
     "metadata": {},
     "output_type": "execute_result"
    }
   ],
   "source": [
    "movies = db.movies\n",
    "dialogue_df.reset_index(level=0, inplace=True, drop=True)\n",
    "movies.insert_many(dialogue_df.to_dict(orient='records'))"
   ]
  },
  {
   "cell_type": "code",
   "execution_count": 16,
   "metadata": {},
   "outputs": [
    {
     "name": "stdout",
     "output_type": "stream",
     "text": [
      "{'name': 'admin', 'sizeOnDisk': 40960.0, 'empty': False}\n",
      "{'name': 'books', 'sizeOnDisk': 348160.0, 'empty': False}\n",
      "{'name': 'config', 'sizeOnDisk': 110592.0, 'empty': False}\n",
      "{'name': 'events', 'sizeOnDisk': 73728.0, 'empty': False}\n",
      "{'name': 'local', 'sizeOnDisk': 40960.0, 'empty': False}\n",
      "{'name': 'outings', 'sizeOnDisk': 40960.0, 'empty': False}\n",
      "{'name': 'starwars', 'sizeOnDisk': 8192.0, 'empty': False}\n"
     ]
    }
   ],
   "source": [
    "for db in client.list_databases():\n",
    "    print(db)"
   ]
  },
  {
   "cell_type": "code",
   "execution_count": 17,
   "metadata": {},
   "outputs": [
    {
     "data": {
      "text/plain": [
       "{'_id': ObjectId('5e4dad07828c421324ab5f35'),\n",
       " 'character': 'C-3PO',\n",
       " 'dialogue': \"Did you hear that?  They've shut down the main reactor.  We'll be destroyed for sure.  This is madness!\"}"
      ]
     },
     "execution_count": 17,
     "metadata": {},
     "output_type": "execute_result"
    }
   ],
   "source": [
    "scripts.find_one()"
   ]
  },
  {
   "cell_type": "code",
   "execution_count": 18,
   "metadata": {},
   "outputs": [],
   "source": [
    "characters_list = ['Anakin', 'Luke' 'Obi_Wan', 'Han', 'Padme','Yoda','Vader','Leia','C_3PO']"
   ]
  },
  {
   "cell_type": "code",
   "execution_count": 20,
   "metadata": {},
   "outputs": [
    {
     "data": {
      "text/plain": [
       "<pymongo.results.InsertManyResult at 0x105bb8410>"
      ]
     },
     "execution_count": 20,
     "metadata": {},
     "output_type": "execute_result"
    }
   ],
   "source": [
    "text = scripts.find({'character': 'ANAKIN'},{'_id':0, 'dialogue':1})\n",
    "db = client.starwars\n",
    "anakin = db.anakin\n",
    "anakin.insert_many(text)"
   ]
  },
  {
   "cell_type": "code",
   "execution_count": 21,
   "metadata": {},
   "outputs": [
    {
     "data": {
      "text/plain": [
       "{'_id': ObjectId('5e4dad30828c421324ab751c'),\n",
       " 'dialogue': 'Now...go, my son. Leave me.'}"
      ]
     },
     "execution_count": 21,
     "metadata": {},
     "output_type": "execute_result"
    }
   ],
   "source": [
    "anakin.find_one()"
   ]
  },
  {
   "cell_type": "code",
   "execution_count": 22,
   "metadata": {},
   "outputs": [
    {
     "data": {
      "text/plain": [
       "<pymongo.results.InsertManyResult at 0x1022bcc780>"
      ]
     },
     "execution_count": 22,
     "metadata": {},
     "output_type": "execute_result"
    }
   ],
   "source": [
    "text = scripts.find({'character': 'LUKE'},{'_id':0, 'dialogue':1})\n",
    "luke = db.luke\n",
    "luke.insert_many(text)"
   ]
  },
  {
   "cell_type": "code",
   "execution_count": 23,
   "metadata": {},
   "outputs": [
    {
     "data": {
      "text/plain": [
       "<pymongo.results.InsertManyResult at 0x10222daaa0>"
      ]
     },
     "execution_count": 23,
     "metadata": {},
     "output_type": "execute_result"
    }
   ],
   "source": [
    "text = scripts.find({'character': 'OBI-WAN'},{'_id':0, 'dialogue':1})\n",
    "obi_wan = db.obi_wan\n",
    "obi_wan.insert_many(text)"
   ]
  },
  {
   "cell_type": "code",
   "execution_count": 24,
   "metadata": {},
   "outputs": [
    {
     "data": {
      "text/plain": [
       "<pymongo.results.InsertManyResult at 0x1022bc7780>"
      ]
     },
     "execution_count": 24,
     "metadata": {},
     "output_type": "execute_result"
    }
   ],
   "source": [
    "text = scripts.find({'character': 'HAN'},{'_id':0, 'dialogue':1})\n",
    "han = db.han\n",
    "han.insert_many(text)"
   ]
  },
  {
   "cell_type": "code",
   "execution_count": 25,
   "metadata": {},
   "outputs": [
    {
     "data": {
      "text/plain": [
       "<pymongo.results.InsertManyResult at 0x10220dfb90>"
      ]
     },
     "execution_count": 25,
     "metadata": {},
     "output_type": "execute_result"
    }
   ],
   "source": [
    "text = scripts.find({'character': 'PADME'},{'_id':0, 'dialogue':1})\n",
    "padme = db.padme\n",
    "padme.insert_many(text)"
   ]
  },
  {
   "cell_type": "code",
   "execution_count": 26,
   "metadata": {},
   "outputs": [
    {
     "data": {
      "text/plain": [
       "<pymongo.results.InsertManyResult at 0x1021ab6d20>"
      ]
     },
     "execution_count": 26,
     "metadata": {},
     "output_type": "execute_result"
    }
   ],
   "source": [
    "text = scripts.find({'character': 'YODA'},{'_id':0, 'dialogue':1})\n",
    "yoda = db.yoda\n",
    "yoda.insert_many(text)"
   ]
  },
  {
   "cell_type": "code",
   "execution_count": 27,
   "metadata": {},
   "outputs": [
    {
     "data": {
      "text/plain": [
       "<pymongo.results.InsertManyResult at 0x1022b66780>"
      ]
     },
     "execution_count": 27,
     "metadata": {},
     "output_type": "execute_result"
    }
   ],
   "source": [
    "text = scripts.find({'character': 'LEIA'},{'_id':0, 'dialogue':1})\n",
    "leia = db.leia\n",
    "leia.insert_many(text)"
   ]
  },
  {
   "cell_type": "code",
   "execution_count": 28,
   "metadata": {},
   "outputs": [
    {
     "data": {
      "text/plain": [
       "<pymongo.results.InsertManyResult at 0x1022b571e0>"
      ]
     },
     "execution_count": 28,
     "metadata": {},
     "output_type": "execute_result"
    }
   ],
   "source": [
    "text = scripts.find({'character': 'C-3PO'},{'_id':0, 'dialogue':1})\n",
    "c_3po = db.c_3po\n",
    "c_3po.insert_many(text)"
   ]
  },
  {
   "cell_type": "code",
   "execution_count": 30,
   "metadata": {},
   "outputs": [
    {
     "data": {
      "text/plain": [
       "<pymongo.results.InsertManyResult at 0x105bb7fa0>"
      ]
     },
     "execution_count": 30,
     "metadata": {},
     "output_type": "execute_result"
    }
   ],
   "source": [
    "text = scripts.find({'character': 'VADER'},{'_id':0, 'dialogue':1})\n",
    "vader = db.vader\n",
    "vader.insert_many(text)"
   ]
  },
  {
   "cell_type": "code",
   "execution_count": 15,
   "metadata": {},
   "outputs": [
    {
     "data": {
      "text/plain": [
       "['obi_wan',\n",
       " 'vader',\n",
       " 'luke',\n",
       " 'c_3po',\n",
       " 'han',\n",
       " 'padme',\n",
       " 'movies',\n",
       " 'scripts',\n",
       " 'yoda',\n",
       " 'anakin',\n",
       " 'leia']"
      ]
     },
     "execution_count": 15,
     "metadata": {},
     "output_type": "execute_result"
    }
   ],
   "source": [
    "db.collection_names()"
   ]
  },
  {
   "cell_type": "code",
   "execution_count": null,
   "metadata": {},
   "outputs": [],
   "source": []
  }
 ],
 "metadata": {
  "kernelspec": {
   "display_name": "Python [conda env:metis] *",
   "language": "python",
   "name": "conda-env-metis-py"
  },
  "language_info": {
   "codemirror_mode": {
    "name": "ipython",
    "version": 3
   },
   "file_extension": ".py",
   "mimetype": "text/x-python",
   "name": "python",
   "nbconvert_exporter": "python",
   "pygments_lexer": "ipython3",
   "version": "3.7.4"
  }
 },
 "nbformat": 4,
 "nbformat_minor": 2
}
